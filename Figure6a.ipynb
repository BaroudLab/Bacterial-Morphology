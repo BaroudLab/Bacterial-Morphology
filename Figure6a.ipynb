{
 "cells": [
  {
   "cell_type": "code",
   "execution_count": null,
   "id": "0",
   "metadata": {},
   "outputs": [],
   "source": [
    "import numpy as np\n",
    "import pandas as pd\n",
    "import matplotlib.pyplot as plt\n",
    "import seaborn as sns"
   ]
  },
  {
   "cell_type": "code",
   "execution_count": null,
   "id": "1",
   "metadata": {},
   "outputs": [],
   "source": [
    "tex_fonts = {\n",
    "    # Use LaTeX to write all text\n",
    "    #\"text.usetex\": True,\n",
    "    \"font.family\": \"sans-serif\",\n",
    "    # Use 10pt font in plots, to match 10pt font in document\n",
    "    \"axes.labelsize\": 8,\n",
    "    \"font.size\": 10,\n",
    "    # Make the legend/label fonts a little smaller\n",
    "    \"legend.fontsize\": 8,\n",
    "    \"xtick.labelsize\": 8,\n",
    "    \"ytick.labelsize\": 8\n",
    "}"
   ]
  },
  {
   "cell_type": "code",
   "execution_count": null,
   "id": "2",
   "metadata": {},
   "outputs": [],
   "source": [
    "def plot_data_neg_prob_axis(data,prop,lw_big,lw_small,color,window_size=1,ax=None,suppress_smaller=None): \n",
    "    #suppress_smaller does not plot values and consider for the mean which are smaller than  given number\n",
    "    markers=['o','s','<','v','h','P','*','^','8','p','H','d','D','X']\n",
    "    if(ax is None):\n",
    "        ax=plt.gca()\n",
    "        \n",
    "    ax.plot([-15,1000],[0,0],'gray',lw=lw_small,zorder=0)\n",
    "    ax.plot([-15,1000],[1,1],'gray',lw=lw_small,zorder=0)    \n",
    "\n",
    "    \n",
    "    if(suppress_smaller is not None):\n",
    "        data_to_plot=data.drop(data[data['total_positive']<suppress_smaller].index)\n",
    "    else:\n",
    "        data_to_plot=data\n",
    "\n",
    "        \n",
    "    #sns.scatterplot(data=data_to_plot,x='prob_neg_label_positive',y=prop,style='dataset',markers=markers,color=color,ax=ax,s=80)\n",
    "\n",
    "    sns.lineplot(data=data_to_plot,x='prob_neg_label_positive',y=prop,style='dataset',markers=markers,color=color,ax=ax)\n",
    "\n",
    "    # window average\n",
    "    data_to_plot=data_to_plot[[prop,'prob_neg_label_positive']].to_numpy()\n",
    "    props=np.unique(data_to_plot[:,1])\n",
    "    val=[]\n",
    "       \n",
    "    \n",
    "    for c in props:\n",
    "        val.append(np.mean( data_to_plot[(data_to_plot[:,1]>=c-window_size) & (data_to_plot[:,1]<=c+window_size) ,0]))\n",
    "        \n",
    "        \n",
    "    val=np.array(val)\n",
    "    ax.plot(props,val,color=color,linewidth=lw_big)\n",
    "    \n",
    "    \n",
    "\n",
    "    # axis settings\n",
    "    plt.setp(ax.spines.values(), linewidth=1)\n",
    "\n",
    "\n",
    "    \n",
    "    ax.tick_params(axis='both', which='major', labelsize=8)\n",
    "    #ticks\n",
    "    yticks=np.arange(0,1.5,0.1)\n",
    "    xticks=yticks\n",
    "    ax.set_xticks(xticks)\n",
    "    ax.set_yticks(yticks)\n",
    "    ax.set_yticklabels('' for tick in yticks)\n",
    "    #now remove labeles\n",
    "    ax.set_xticklabels(['' for tick in xticks])\n",
    "    ax.set_xlabel('')\n",
    "    ax.set_ylabel('')\n",
    "    ax.legend([],[], frameon=False)\n",
    "    ax.set_ylim([-0.04,1.04])\n",
    "    ax.set_xlim([-0.04,1.04])    "
   ]
  },
  {
   "cell_type": "code",
   "execution_count": null,
   "id": "3",
   "metadata": {
    "tags": []
   },
   "outputs": [],
   "source": [
    "def calc_smooted_profiles_neg_prob_axis(data,prop,window_size=1,suppress_smaller=None,gived_grid=None,exclusive=None):\n",
    "\n",
    "    if(suppress_smaller is not None):\n",
    "        data_to_plot=data.drop(data[data['total_positive']<suppress_smaller].index)\n",
    "    else:\n",
    "        data_to_plot=data\n",
    "\n",
    "    data_to_plot=data_to_plot[[prop,'prob_neg_label_positive']].to_numpy()\n",
    "    val_mean=[]\n",
    "    val_std=[]\n",
    "\n",
    "    if(exclusive  is None):  #symmetric mean so actual window size is 2* window_size\n",
    "        \n",
    "        if(gived_grid is None):  #over the grid given by unique values measured\n",
    "            props=np.unique(data_to_plot[:,1]) # \n",
    "        else:  \n",
    "\n",
    "            props=gived_grid.copy()\n",
    "            \n",
    "        for c in props:\n",
    "            val_mean.append(np.mean( data_to_plot[(data_to_plot[:,1]>=c-window_size) & (data_to_plot[:,1]<=c+window_size) ,0]))\n",
    "            val_std.append(np.std( data_to_plot[(data_to_plot[:,1]>=c-window_size) & (data_to_plot[:,1]<=c+window_size) ,0])/np.sqrt(len(data_to_plot[(data_to_plot[:,1]>=c-window_size) & (data_to_plot[:,1]<=c+window_size) ,0])))\n",
    "\n",
    "\n",
    "        dic={'prop':prop ,'mean': np.array(val_mean),'std': np.array(val_std),'grid':props}  \n",
    "        \n",
    "    else: #\n",
    "        props=gived_grid.copy()\n",
    "        for i,c in enumerate(props[:-1]):\n",
    "            val_mean.append(np.mean( data_to_plot[(data_to_plot[:,1]>=c) & (data_to_plot[:,1]<props[i+1]) ,0]))\n",
    "            val_std.append(np.std( data_to_plot[(data_to_plot[:,1]>=c) & (data_to_plot[:,1]<props[i+1]) ,0])/np.sqrt(len( data_to_plot[(data_to_plot[:,1]>=c) & (data_to_plot[:,1]<props[i+1]) ,0])))\n",
    "\n",
    "        dic={'prop':prop ,'mean': np.array(val_mean),'std': np.array(val_std),'grid':props[:-1]}  \n",
    "\n",
    "    return dic\n",
    "    "
   ]
  },
  {
   "cell_type": "code",
   "execution_count": null,
   "id": "4",
   "metadata": {
    "tags": []
   },
   "outputs": [],
   "source": [
    "def plot_profiles_given_grid(given_grid,data,prop,lw,ax,suppres_legend=True): \n",
    "   \n",
    "    #sns.lineplot(data=data,x='prob_pos_label_positive',y=prop,hue='ab',ax=ax)\n",
    "    for c in data.ab.unique():\n",
    "        y=data.loc[data.ab==c,prop].values\n",
    "        ymask = np.isfinite(y)\n",
    "        ax.plot(given_grid[ymask],y[ymask],lw=lw,label=c)\n",
    "        #sns.lineplot(data=data[data.ab==c],x='prob_neg_label_positive',y=prop,ax=ax,lw=lw,label=c)\n",
    "    \n",
    "    ax.set_xlim([0,1])\n",
    "    ax.set_ylim([-0.01,1.01])\n",
    "\n",
    "    # axis settings\n",
    "    \n",
    "\n",
    "    # axis settings\n",
    "    plt.setp(ax.spines.values(), linewidth=1)\n",
    "    ax.tick_params(axis='both', which='major', labelsize=8)\n",
    "\n",
    "    ax.set_xlabel('')\n",
    "    ax.set_ylabel('')\n",
    "    if(suppres_legend):\n",
    "        ax.legend([],[], frameon=False)"
   ]
  },
  {
   "cell_type": "code",
   "execution_count": null,
   "id": "5",
   "metadata": {
    "tags": []
   },
   "outputs": [],
   "source": [
    "def plot_profiles(data,prop,lw,ax,suppres_legend=True): \n",
    "   \n",
    "    colors = ['#800080', '#008000', '#B8860B', '#F1435AFF', '#2F4F4F', '#8B0000'] \n",
    "    for i,c in enumerate(data.ab.unique()):\n",
    "        x=data[data.ab==c].prob_neg_label_positive_mean.values\n",
    "        y=data.loc[data.ab==c,f'{prop}_mean'].values\n",
    "        e=data.loc[data.ab==c,f'{prop}_std'].values\n",
    "\n",
    "        ax.plot(x,y,lw=lw,color=colors[i % len(colors)])\n",
    "        ax.fill_between(x, \n",
    "                   y- e,\n",
    "                    y + e,\n",
    "                    alpha=0.2,color=colors[i % len(colors)])\n",
    "    \n",
    "    # axis settings\n",
    "    plt.setp(ax.spines.values(), linewidth=1)\n",
    "    ax.tick_params(axis='both', which='major', labelsize=8)\n",
    "    #ticks\n",
    "    \n",
    "    yticks=np.arange(0,1.5,0.1)\n",
    "    ax.set_xticks(yticks)\n",
    "    ax.set_yticks(yticks)\n",
    "    #now remove labeles\n",
    "    ax.set_xticklabels(['' for tick in yticks])\n",
    "    ax.set_yticklabels(['' for tick in yticks])\n",
    "    \n",
    "    ax.set_xlabel('')\n",
    "    ax.set_ylabel('')\n",
    "    \n",
    "    ax.set_xlim([0,1])\n",
    "    ax.set_ylim([-0.02,1.02])\n",
    "    if(suppres_legend):\n",
    "        ax.legend([],[], frameon=False)"
   ]
  },
  {
   "cell_type": "markdown",
   "id": "6",
   "metadata": {
    "tags": []
   },
   "source": [
    "# Load data"
   ]
  },
  {
   "cell_type": "code",
   "execution_count": null,
   "id": "7",
   "metadata": {
    "tags": []
   },
   "outputs": [],
   "source": [
    "Folder='tables/probability_tables/'\n",
    "\n",
    "\n",
    "Genta=pd.read_csv(f'{Folder}Gentamicin_cond_pos.csv')\n",
    "Genta['total_positive']=Genta['total_label_positive'].values * Genta['prob_pos_label_positive'].values\n",
    "\n",
    "\n",
    "Cipro=pd.read_csv(f'{Folder}Ciprofloxacin_cond_pos.csv')\n",
    "Cipro['total_positive']=Cipro['total_label_positive'].values * Cipro['prob_pos_label_positive'].values\n",
    "\n",
    "\n",
    "\n",
    "\n",
    "\n",
    "Amp=pd.read_csv(f'{Folder}Ampicilin_cond_pos.csv')\n",
    "Amp['total_positive']=Amp['total_label_positive'].values * Amp['prob_pos_label_positive'].values\n",
    "\n",
    "\n",
    "Tetra=pd.read_csv(f'{Folder}Tetracycline_cond_pos.csv')\n",
    "Tetra['total_positive']=Tetra['total_label_positive'].values * Tetra['prob_pos_label_positive'].values\n",
    "\n",
    "Chp=pd.read_csv(f'{Folder}Chloramphenicol_cond_pos.csv')\n",
    "Chp['total_positive']=Chp['total_label_positive'].values * Chp['prob_pos_label_positive'].values\n",
    "df=[Genta,Cipro,Amp,Tetra,Chp]"
   ]
  },
  {
   "cell_type": "markdown",
   "id": "8",
   "metadata": {
    "tags": []
   },
   "source": [
    "# Plot profiles reltive to probability of beeing positive    "
   ]
  },
  {
   "cell_type": "code",
   "execution_count": null,
   "id": "9",
   "metadata": {
    "tags": []
   },
   "outputs": [],
   "source": [
    "# smooth on neg drop prob \n",
    "window_size= 0.125 * np.ones(5) # 0.05\n",
    "props=[f'prob_pos_label_{l}' for l  in ['positive','planktonic','clumped','rods','filaments']]\n",
    "\n",
    "col=[]\n",
    "\n",
    "props=props+['prob_neg_label_positive']\n",
    "for i in range(5): # for every antibiotic\n",
    "    df[i]['prob_neg_label_positive']=1-df[i]['prob_pos_label_positive']\n",
    "    \n",
    "for i in range(5): # for every antibiotic\n",
    "    foo=[]\n",
    "    for j,p in enumerate(props[1:]):\n",
    "         foo.append(calc_smooted_profiles_neg_prob_axis(df[i][[p,'prob_neg_label_positive','dataset','total_positive']],p,window_size[i],suppress_smaller=3))\n",
    "\n",
    "    col.append(pd.DataFrame(foo))"
   ]
  },
  {
   "cell_type": "code",
   "execution_count": null,
   "id": "10",
   "metadata": {
    "tags": []
   },
   "outputs": [],
   "source": [
    "def transform_with_concat(df):\n",
    "    series_list = []\n",
    "    for name, mean_array, std_array in zip(df['prop'], df['mean'], df['std']):\n",
    "        # Create series for mean values with '_mean' postfix\n",
    "        mean_series = pd.Series(mean_array, name=f\"{name}_mean\")\n",
    "        series_list.append(mean_series)\n",
    "        \n",
    "        # Create series for std values with '_std' postfix\n",
    "        std_series = pd.Series(std_array, name=f\"{name}_std\")\n",
    "        series_list.append(std_series)\n",
    "    \n",
    "    return pd.concat(series_list, axis=1)\n",
    "\n",
    "\n",
    "ab_list=['Genta','Cipro','Amp','Tetra','Chp']\n",
    "new_df=[]\n",
    "for i,c in enumerate(col):\n",
    "    foo=transform_with_concat(c)\n",
    "    foo['ab']=ab_list[i]\n",
    "    new_df.append(foo)\n",
    "    \n",
    "dg = pd.concat(new_df)    "
   ]
  },
  {
   "cell_type": "code",
   "execution_count": null,
   "id": "11",
   "metadata": {
    "tags": []
   },
   "outputs": [],
   "source": [
    "lw_big=4\n",
    "\n",
    "fig, axs = plt.subplots(1,4, figsize=(20, 5),dpi=200 )\n",
    "\n",
    "plot_profiles(dg,props[1],lw_big,axs[0])  \n",
    "\n",
    "for j,p in enumerate(props[2:-1]):\n",
    "    plot_profiles(dg,p,lw_big,axs[j+1])  \n",
    "\n",
    "plt.rcParams.update(tex_fonts)\n",
    "fig.tight_layout()"
   ]
  }
 ],
 "metadata": {
  "kernelspec": {
   "display_name": "Python 3 (ipykernel)",
   "language": "python",
   "name": "python3"
  },
  "language_info": {
   "codemirror_mode": {
    "name": "ipython",
    "version": 3
   },
   "file_extension": ".py",
   "mimetype": "text/x-python",
   "name": "python",
   "nbconvert_exporter": "python",
   "pygments_lexer": "ipython3",
   "version": "3.12.2"
  }
 },
 "nbformat": 4,
 "nbformat_minor": 5
}
