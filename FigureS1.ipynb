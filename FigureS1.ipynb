{
 "cells": [
  {
   "cell_type": "code",
   "execution_count": null,
   "id": "0",
   "metadata": {},
   "outputs": [],
   "source": [
    "import numpy as np\n",
    "import pandas as pd\n",
    "import matplotlib.pyplot as plt\n",
    "import seaborn as sns"
   ]
  },
  {
   "cell_type": "code",
   "execution_count": null,
   "id": "1",
   "metadata": {},
   "outputs": [],
   "source": [
    "tex_fonts = {\n",
    "    # Use LaTeX to write all text\n",
    "    #\"text.usetex\": True,\n",
    "    \"font.family\": \"sans-serif\",\n",
    "    # Use 10pt font in plots, to match 10pt font in document\n",
    "    \"axes.labelsize\": 8,\n",
    "    \"font.size\": 10,\n",
    "    # Make the legend/label fonts a little smaller\n",
    "    \"legend.fontsize\": 8,\n",
    "    \"xtick.labelsize\": 8,\n",
    "    \"ytick.labelsize\": 8\n",
    "}"
   ]
  },
  {
   "cell_type": "markdown",
   "id": "2",
   "metadata": {
    "tags": []
   },
   "source": [
    "# Losses"
   ]
  },
  {
   "cell_type": "code",
   "execution_count": null,
   "id": "3",
   "metadata": {
    "tags": []
   },
   "outputs": [],
   "source": [
    "df=pd.read_csv('tables/TrainingInfo_All.csv',index_col=0)"
   ]
  },
  {
   "cell_type": "code",
   "execution_count": null,
   "id": "4",
   "metadata": {
    "tags": []
   },
   "outputs": [],
   "source": [
    "lw_big=2\n",
    "lw_small=1\n",
    "\n",
    "fig= plt.figure(figsize=(3, 2) ,dpi=200)\n",
    "ax=plt.gca()\n",
    "plt.plot([-4,120],[0,0],'gray',lw=lw_small)\n",
    "plt.plot([-4,120],[1,1],'gray',lw=lw_small)\n",
    "\n",
    "\n",
    "ax.plot(df.train_losses, color = 'red', label = 'training',lw=lw_big)\n",
    "ax.plot(df.train_acc, color = 'red',linestyle='--', label = 'training',lw=lw_big)\n",
    "\n",
    "ax.plot(df.val_losses, color = 'blue', label = 'validation',lw=lw_big)\n",
    "ax.plot(df.val_acc, color = 'blue',linestyle='--', label = 'validation',lw=lw_big)\n",
    "\n",
    "\n",
    "xticks=np.arange(0,120,10)\n",
    "yticks=np.arange(0,1.5,0.1)\n",
    "\n",
    "\n",
    "plt.xticks(xticks)\n",
    "plt.yticks(yticks)\n",
    "\n",
    "ax.set_xticklabels([0]+[str(np.round(tick,0)) if i%2 else '' for i,tick in enumerate(xticks[1:])])\n",
    "ax.set_yticklabels([0]+[str(np.round(tick,1)) if i%2 else '' for i,tick in enumerate(yticks[1:])])\n",
    "\n",
    "plt.xlim([-1,101])\n",
    "plt.ylim([0,1])\n",
    "\n",
    "#ax.set_xlabel('epoch')\n",
    "#ax.set_ylabel('average loss and accuracy')\n",
    "\n",
    "ax.set_xlabel('')\n",
    "ax.set_ylabel('')\n",
    "plt.setp(ax.spines.values(), linewidth=1)\n",
    "\n",
    "\n",
    "plt.rcParams.update(tex_fonts)\n"
   ]
  }
 ],
 "metadata": {
  "kernelspec": {
   "display_name": "Python 3 (ipykernel)",
   "language": "python",
   "name": "python3"
  },
  "language_info": {
   "codemirror_mode": {
    "name": "ipython",
    "version": 3
   },
   "file_extension": ".py",
   "mimetype": "text/x-python",
   "name": "python",
   "nbconvert_exporter": "python",
   "pygments_lexer": "ipython3",
   "version": "3.12.2"
  }
 },
 "nbformat": 4,
 "nbformat_minor": 5
}
