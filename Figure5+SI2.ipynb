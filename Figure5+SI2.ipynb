{
 "cells": [
  {
   "cell_type": "code",
   "execution_count": null,
   "id": "0",
   "metadata": {},
   "outputs": [],
   "source": [
    "import numpy as np\n",
    "import pandas as pd\n",
    "import matplotlib.pyplot as plt\n",
    "import seaborn as sns"
   ]
  },
  {
   "cell_type": "code",
   "execution_count": null,
   "id": "1",
   "metadata": {},
   "outputs": [],
   "source": [
    "tex_fonts = {\n",
    "    # Use LaTeX to write all text\n",
    "    #\"text.usetex\": True,\n",
    "    \"font.family\": \"sans-serif\",\n",
    "    # Use 10pt font in plots, to match 10pt font in document\n",
    "    \"axes.labelsize\": 8,\n",
    "    \"font.size\": 10,\n",
    "    # Make the legend/label fonts a little smaller\n",
    "    \"legend.fontsize\": 8,\n",
    "    \"xtick.labelsize\": 8,\n",
    "    \"ytick.labelsize\": 8\n",
    "}"
   ]
  },
  {
   "cell_type": "code",
   "execution_count": null,
   "id": "2",
   "metadata": {},
   "outputs": [],
   "source": [
    "def plot_data(data,prop,xlim,xticks,lw_big,lw_small,color,window_size=1,ax=None,suppress_smaller=None): \n",
    "    #suppress_smaller does not plot values and consider for the mean which are smaller than  given number\n",
    "    markers=['o','s','<','v','h','P','*','^','8','p','H','d','D','X']\n",
    "    if(ax is None):\n",
    "        ax=plt.gca()\n",
    "        \n",
    "    ax.plot([-15,1000],[0,0],'gray',lw=lw_small,zorder=0)\n",
    "    ax.plot([-15,1000],[1,1],'gray',lw=lw_small,zorder=0)    \n",
    "\n",
    "    \n",
    "    if(suppress_smaller is not None):\n",
    "        data_to_plot=data.drop(data[data['total_positive']<suppress_smaller].index)\n",
    "    else:\n",
    "        data_to_plot=data\n",
    "    sns.scatterplot(data=data_to_plot,x='concentration',y=prop,style='dataset',markers=markers,color=color,ax=ax,s=80)\n",
    "\n",
    "    \n",
    "    # window average\n",
    "    data_to_plot=data_to_plot[[prop,'concentration']].to_numpy()\n",
    "    concentrations=np.unique(data_to_plot[:,1])\n",
    "    val=[]\n",
    "       \n",
    "    \n",
    "    for c in concentrations:\n",
    "        val.append(np.mean( data_to_plot[(data_to_plot[:,1]>=c-window_size) & (data_to_plot[:,1]<=c+window_size) ,0]))\n",
    "        \n",
    "        \n",
    "    val=np.array(val)\n",
    "    ax.plot(concentrations,val,color=color,linewidth=lw_big)\n",
    "    \n",
    "    \n",
    "\n",
    "    # axis settings\n",
    "    plt.setp(ax.spines.values(), linewidth=1)\n",
    "\n",
    "\n",
    "    \n",
    "    ax.tick_params(axis='both', which='major', labelsize=8)\n",
    "    #ticks\n",
    "    yticks=np.arange(0,1.5,0.1)\n",
    "    ax.set_xticks(xticks)\n",
    "    ax.set_yticks(yticks)\n",
    "    ax.set_yticklabels('' for tick in yticks)\n",
    "    #now remove labeles\n",
    "    ax.set_xticklabels(['' for tick in xticks])\n",
    "    ax.set_xlabel('')\n",
    "    ax.set_ylabel('')\n",
    "    ax.set_xlim(xlim)\n",
    "    ax.legend([],[], frameon=False)\n",
    "    ax.set_ylim([-0.04,1.04])\n",
    "        "
   ]
  },
  {
   "cell_type": "markdown",
   "id": "3",
   "metadata": {
    "tags": []
   },
   "source": [
    "# Plot Antibiotic Profiles"
   ]
  },
  {
   "cell_type": "code",
   "execution_count": null,
   "id": "4",
   "metadata": {
    "tags": []
   },
   "outputs": [],
   "source": [
    "xlim=[[-0.07,2.04],[-1.5,34],[-1,21],[-5,365],[-1,21]]\n",
    "xticks=[np.arange(0,10,0.25),np.arange(0,50,4),np.arange(0,50,2.5),np.arange(0,400,45),np.arange(0,100,2.5)]\n",
    "\n",
    "\n",
    "colors=sns.color_palette()\n",
    "markers=['o','s','<','v','h','P','*','^','8','p','H','d','D','X']\n",
    "msize=80\n",
    "lw_big=4\n",
    "lw_small=2"
   ]
  },
  {
   "cell_type": "code",
   "execution_count": null,
   "id": "5",
   "metadata": {
    "tags": []
   },
   "outputs": [],
   "source": [
    "props=[f'prob_pos_label_{l}' for l  in ['positive','planktonic','clumped','rods','filaments']]"
   ]
  },
  {
   "cell_type": "code",
   "execution_count": null,
   "id": "6",
   "metadata": {
    "tags": []
   },
   "outputs": [],
   "source": [
    "window_size=[0.15,3.9,1.8,21,1.1]  #obtain from weighted mean of the concentrations as described in the manuscript"
   ]
  },
  {
   "cell_type": "markdown",
   "id": "7",
   "metadata": {
    "tags": []
   },
   "source": [
    "## conditioned : Figure 5"
   ]
  },
  {
   "cell_type": "code",
   "execution_count": null,
   "id": "8",
   "metadata": {
    "tags": []
   },
   "outputs": [],
   "source": [
    "Folder='tables/probability_tables/'\n",
    "\n",
    "\n",
    "Genta=pd.read_csv(f'{Folder}Gentamicin_cond_pos.csv')\n",
    "Genta['total_positive']=Genta['total_label_positive'].values * Genta['prob_pos_label_positive'].values\n",
    "\n",
    "\n",
    "Cipro=pd.read_csv(f'{Folder}Ciprofloxacin_cond_pos.csv')\n",
    "Cipro['total_positive']=Cipro['total_label_positive'].values * Cipro['prob_pos_label_positive'].values\n",
    "\n",
    "\n",
    "\n",
    "\n",
    "\n",
    "Amp=pd.read_csv(f'{Folder}Ampicilin_cond_pos.csv')\n",
    "Amp['total_positive']=Amp['total_label_positive'].values * Amp['prob_pos_label_positive'].values\n",
    "\n",
    "\n",
    "Tetra=pd.read_csv(f'{Folder}Tetracycline_cond_pos.csv')\n",
    "Tetra['total_positive']=Tetra['total_label_positive'].values * Tetra['prob_pos_label_positive'].values\n",
    "\n",
    "Chp=pd.read_csv(f'{Folder}Chloramphenicol_cond_pos.csv')\n",
    "Chp['total_positive']=Chp['total_label_positive'].values * Chp['prob_pos_label_positive'].values\n",
    "df=[Genta,Cipro,Amp,Tetra,Chp]\n"
   ]
  },
  {
   "cell_type": "code",
   "execution_count": null,
   "id": "9",
   "metadata": {
    "tags": []
   },
   "outputs": [],
   "source": [
    "fig, axs = plt.subplots(5,5, figsize=(10, 5),dpi=200 )\n",
    "\n",
    "for j in range(5):# prob negative \n",
    "    plot_data(df[j],props[0],xlim[j],xticks[j],lw_big,lw_small,colors[0],window_size[j],ax=axs[0,j],suppress_smaller=None) \n",
    "\n",
    "for i in range(1,5):\n",
    "    for j in range(5):\n",
    "        plot_data(df[j],props[i],xlim[j],xticks[j],lw_big,lw_small,colors[i],window_size[j],ax=axs[i,j],suppress_smaller=3) \n",
    "\n",
    "plt.tight_layout()"
   ]
  },
  {
   "cell_type": "markdown",
   "id": "10",
   "metadata": {
    "tags": []
   },
   "source": [
    "## unconditioned : Figure SI 2"
   ]
  },
  {
   "cell_type": "code",
   "execution_count": null,
   "id": "11",
   "metadata": {
    "tags": []
   },
   "outputs": [],
   "source": [
    "Folder='tables/probability_tables/'\n",
    "\n",
    "\n",
    "Genta=pd.read_csv(f'{Folder}Gentamicin.csv')\n",
    "Genta['total_positive']=Genta['total_label_positive'].values * Genta['prob_pos_label_positive'].values\n",
    "\n",
    "\n",
    "Cipro=pd.read_csv(f'{Folder}Ciprofloxacin.csv')\n",
    "Cipro['total_positive']=Cipro['total_label_positive'].values * Cipro['prob_pos_label_positive'].values\n",
    "\n",
    "\n",
    "\n",
    "\n",
    "\n",
    "Amp=pd.read_csv(f'{Folder}Ampicilin.csv')\n",
    "Amp['total_positive']=Amp['total_label_positive'].values * Amp['prob_pos_label_positive'].values\n",
    "\n",
    "\n",
    "Tetra=pd.read_csv(f'{Folder}Tetracycline.csv')\n",
    "Tetra['total_positive']=Tetra['total_label_positive'].values * Tetra['prob_pos_label_positive'].values\n",
    "\n",
    "Chp=pd.read_csv(f'{Folder}Chloramphenicol.csv')\n",
    "Chp['total_positive']=Chp['total_label_positive'].values * Chp['prob_pos_label_positive'].values\n",
    "df=[Genta,Cipro,Amp,Tetra,Chp]\n"
   ]
  },
  {
   "cell_type": "code",
   "execution_count": null,
   "id": "12",
   "metadata": {
    "tags": []
   },
   "outputs": [],
   "source": [
    "fig, axs = plt.subplots(5,5, figsize=(10, 5),dpi=200 )\n",
    "\n",
    "for j in range(5):# prob negative \n",
    "    plot_data(df[j],props[0],xlim[j],xticks[j],lw_big,lw_small,colors[0],window_size[j],ax=axs[0,j],suppress_smaller=None) \n",
    "\n",
    "for i in range(1,5):\n",
    "    for j in range(5):\n",
    "        plot_data(df[j],props[i],xlim[j],xticks[j],lw_big,lw_small,colors[i],window_size[j],ax=axs[i,j],suppress_smaller=3) \n",
    "\n",
    "plt.tight_layout()"
   ]
  }
 ],
 "metadata": {
  "kernelspec": {
   "display_name": "Python 3 (ipykernel)",
   "language": "python",
   "name": "python3"
  },
  "language_info": {
   "codemirror_mode": {
    "name": "ipython",
    "version": 3
   },
   "file_extension": ".py",
   "mimetype": "text/x-python",
   "name": "python",
   "nbconvert_exporter": "python",
   "pygments_lexer": "ipython3",
   "version": "3.12.2"
  }
 },
 "nbformat": 4,
 "nbformat_minor": 5
}
