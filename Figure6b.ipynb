{
 "cells": [
  {
   "cell_type": "code",
   "execution_count": null,
   "id": "0",
   "metadata": {},
   "outputs": [],
   "source": [
    "import numpy as np\n",
    "import glob \n",
    "import pandas as pd\n",
    "import seaborn as sns\n",
    "import matplotlib.pyplot as plt\n",
    "import os\n",
    "\n",
    "\n",
    "from matplotlib.cm import ScalarMappable\n",
    "from matplotlib.colors import ListedColormap, Normalize\n",
    "# Load tables and and unionise \n",
    "from matplotlib.cm import ScalarMappable\n",
    "from matplotlib.colors import  BoundaryNorm"
   ]
  },
  {
   "cell_type": "code",
   "execution_count": null,
   "id": "1",
   "metadata": {
    "tags": []
   },
   "outputs": [],
   "source": [
    "def create_polar_plot_from_df(df,cticks,ax=None, group_col='concentration',title=None):\n",
    "    \"\"\"\n",
    "    Create a polar plot from a DataFrame containing co-occurrence probabilities.\n",
    "    Assumes the DataFrame has: group_col, code, label, probability\n",
    "    \"\"\"\n",
    "    #label_list=['¬C¬R¬F', '¬C¬RF', '¬CR¬F', '¬CRF', 'C¬R¬F', 'C¬RF', 'CR¬F', 'CRF']\n",
    "    label_list=['','','','','','','','']\n",
    "\n",
    "    # Ensure data is sorted by code for consistent angle mapping\n",
    "    df_sorted = df.sort_values(by='code')\n",
    "\n",
    "    # Unique positions and angle mapping\n",
    "    unique_codes = sorted(df_sorted['code'].unique())\n",
    "    n_codes = len(unique_codes)\n",
    "    angles = np.linspace(0, 2 * np.pi, n_codes, endpoint=False)\n",
    "    angles_closed = np.concatenate([angles, [angles[0]]])\n",
    "\n",
    "    # Build label list (once, assume all groups have same codes/labels)\n",
    "    #label_map = dict(zip(df_sorted['code'], label_list))\n",
    "    #labels = [label_map[code] for code in unique_codes]\n",
    "\n",
    "    # Assign colors for each group\n",
    "    groups = df[group_col].unique()\n",
    "    colors = plt.cm.jet(np.linspace(0, 1, len(groups))) # equally spaced colors\n",
    "\n",
    "    #actualy plotting\n",
    "    for i, group in enumerate(groups):\n",
    "        group_df = df_sorted[df_sorted[group_col] == group]\n",
    "        probs = group_df.set_index('code').loc[unique_codes]['mean'].values\n",
    "        probs_closed = np.append(probs, probs[0])  # close the loop\n",
    "\n",
    "\n",
    "        ax.plot(angles_closed, probs_closed, 'o-', linewidth=2, markersize=6,\n",
    "                color=colors[i], label=str(group), alpha=0.85)\n",
    "        m=ax.fill(angles_closed, probs_closed, alpha=0.1, color=colors[i])\n",
    "\n",
    "    # Configure the polar axis\n",
    "    ax.set_theta_offset(np.pi / 2)\n",
    "    ax.set_theta_direction(-1)\n",
    "    ax.set_thetagrids(angles * 180 / np.pi, label_list)\n",
    "    \n",
    "    # Set radius (y-axis) limits\n",
    "    all_probs = df['mean'].values\n",
    "    ax.set_ylim(0,1)\n",
    "    ax.set_yticklabels([])\n",
    "    if(title is not None):\n",
    "        ax.set_title(title, fontsize=14, fontweight='bold', pad=20)\n",
    "    ax.grid(True, alpha=0.6)\n",
    "    ax.legend(loc='upper right', bbox_to_anchor=(1.3, 1.0))\n",
    "\n",
    "    legend = ax.get_legend()\n",
    "    if legend:\n",
    "        legend.remove()\n",
    "\n"
   ]
  },
  {
   "cell_type": "code",
   "execution_count": null,
   "id": "2",
   "metadata": {
    "tags": []
   },
   "outputs": [],
   "source": [
    "def load_data(Folder,AB):\n",
    "    coocc=pd.read_csv(f'{Folder}{AB}_cooccurance.csv',index_col=0)\n",
    "    prob=pd.read_csv(f'{Folder}{AB}.csv',index_col=0)\n",
    "\n",
    "    coocc['prob_neg_label_positive']=0\n",
    "    coocc['total_positive']=0\n",
    "    prob['total_positive']=prob['total_label_positive'].values * prob['prob_pos_label_positive'].values\n",
    "\n",
    "    for d in prob.dataset.unique():\n",
    "            for c in prob.chip.unique():\n",
    "                coocc.loc[(coocc.dataset==d) & (coocc.chip==c),'prob_neg_label_positive']=prob.loc[(prob.dataset==d) & (prob.chip==c),'prob_neg_label_positive'].values[0]\n",
    "                coocc.loc[(coocc.dataset==d) & (coocc.chip==c),'total_positive']=prob.loc[(prob.dataset==d) & (prob.chip==c),'total_positive'].values[0]\n",
    "\n",
    "    return coocc\n",
    "\n",
    "def calc_stat(data):\n",
    "    av=data.groupby(by=['code','concentration']).probability.apply(lambda x: np.nanmean(x)).reset_index()\n",
    "    std=data.groupby(by=['code','concentration']).probability.apply(lambda x: np.nanstd(x)).reset_index()\n",
    "    std.rename(columns={'probability':'probability_std'},inplace=True)\n",
    "    av=av.merge(std,on=['code','concentration'])\n",
    "\n",
    "    av_prob=data.groupby(by=['code','concentration']).prob_neg_label_positive.apply(lambda x: np.nanmean(x)).reset_index()\n",
    "    av=av.merge(av_prob,on=['code','concentration'])\n",
    "\n",
    "    return av\n",
    "\n",
    "\n",
    "def calc_smooted_profiles(data,prop,prop_for_window,window_size=1,suppress_smaller=None):\n",
    "\n",
    "    '''\n",
    "        data is dataframe, prop is the property that we want to average, and we average it on a sliding window of prop_for_window\n",
    "        where the actual windowsize is 2 * window_size (symmetric)\n",
    "        output is a dictionary with the average and SEM\n",
    "    '''\n",
    "    \n",
    "    if(suppress_smaller is not None):\n",
    "        data_to_average=data.drop(data[data['total_positive']<suppress_smaller].index)\n",
    "    else:\n",
    "        data_to_average=data\n",
    "\n",
    "\n",
    "    data_to_average=data_to_average.loc[data_to_average.code==prop,['probability',prop_for_window]].to_numpy()\n",
    "    val_mean=[]\n",
    "    val_std=[]\n",
    "\n",
    "\n",
    "    grid_for_window=np.unique(data_to_average[:,1]) # \n",
    "                    \n",
    "    for c in grid_for_window:\n",
    "        values_in_window=data_to_average[(data_to_average[:,1]>=c-window_size) & (data_to_average[:,1]<=c+window_size) ,0]\n",
    "        if(len(values_in_window)==0):\n",
    "            val_mean.append(np.nan)\n",
    "            val_std.append(np.nan)\n",
    "        else:   \n",
    "            val_mean.append(np.nanmean(values_in_window))\n",
    "            val_std.append(np.nanstd(values_in_window)/np.sqrt(len(values_in_window)))\n",
    "\n",
    "\n",
    "    dic={'code':prop ,'mean': np.array(val_mean),'std': np.array(val_std),prop_for_window:grid_for_window}  \n",
    "  \n",
    "\n",
    "    return dic\n",
    "\n"
   ]
  },
  {
   "cell_type": "code",
   "execution_count": null,
   "id": "3",
   "metadata": {
    "tags": []
   },
   "outputs": [],
   "source": [
    "Folder='tables/probability_tables/'\n",
    "\n",
    "\n",
    "\n",
    "Genta=load_data(Folder,'Gentamicin')\n",
    "Cipro=load_data(Folder,'Ciprofloxacin')\n",
    "Amp=load_data(Folder,'Ampicilin')\n",
    "\n",
    "Tetra=load_data(Folder,'Tetracycline')\n",
    "Chp=load_data(Folder,'Chloramphenicol')\n",
    "\n",
    "df=[Genta,Cipro,Amp,Tetra,Chp]"
   ]
  },
  {
   "cell_type": "code",
   "execution_count": null,
   "id": "4",
   "metadata": {
    "tags": []
   },
   "outputs": [],
   "source": [
    "window_size=[0.15,3.9,1.8,21,1.1]  #weighted mean for concentration (actually half but internally the window will be symmetric)"
   ]
  },
  {
   "cell_type": "code",
   "execution_count": null,
   "id": "5",
   "metadata": {
    "tags": []
   },
   "outputs": [],
   "source": [
    "collect_dict=[]\n",
    "for c in Genta.code.unique():\n",
    "    collect_dict.append(calc_smooted_profiles(Genta,c,'concentration',window_size[0],suppress_smaller=3))\n",
    "\n",
    "window_Genta=pd.DataFrame(collect_dict)\n",
    "window_Genta = window_Genta.explode(['mean', 'std', 'concentration'])   \n",
    "\n",
    "\n",
    "collect_dict=[]\n",
    "for c in Cipro.code.unique():\n",
    "    collect_dict.append(calc_smooted_profiles(Cipro,c,'concentration',window_size[1],suppress_smaller=3))\n",
    "\n",
    "window_Cipro=pd.DataFrame(collect_dict)\n",
    "window_Cipro = window_Cipro.explode(['mean', 'std', 'concentration'])    \n",
    "\n",
    "\n",
    "collect_dict=[]\n",
    "for c in Amp.code.unique():\n",
    "    collect_dict.append(calc_smooted_profiles(Amp,c,'concentration',window_size[2],suppress_smaller=3))\n",
    "\n",
    "window_Amp=pd.DataFrame(collect_dict)\n",
    "window_Amp = window_Amp.explode(['mean', 'std', 'concentration'])    \n",
    "\n",
    "\n",
    "collect_dict=[]\n",
    "for c in Tetra.code.unique():\n",
    "    collect_dict.append(calc_smooted_profiles(Tetra,c,'concentration',window_size[3],suppress_smaller=3))\n",
    "\n",
    "window_Tetra=pd.DataFrame(collect_dict)\n",
    "window_Tetra = window_Tetra.explode(['mean', 'std', 'concentration'])    \n",
    "\n",
    "collect_dict=[]\n",
    "for c in Chp.code.unique():\n",
    "    collect_dict.append(calc_smooted_profiles(Chp,c,'concentration',window_size[4],suppress_smaller=3))\n",
    "\n",
    "window_Chp=pd.DataFrame(collect_dict)\n",
    "window_Chp = window_Chp.explode(['mean', 'std', 'concentration'])\n",
    "\n",
    "\n",
    "df_window=[window_Genta,window_Cipro,window_Amp,window_Tetra,window_Chp]"
   ]
  },
  {
   "cell_type": "markdown",
   "id": "6",
   "metadata": {
    "tags": []
   },
   "source": [
    "# Plot"
   ]
  },
  {
   "cell_type": "code",
   "execution_count": null,
   "id": "7",
   "metadata": {
    "tags": []
   },
   "outputs": [],
   "source": [
    "xlim=[[-0.07,2.04],[-1.5,34],[-1,21],[-5,365],[-1,21]]\n",
    "xticks=[np.arange(0,10,0.25),np.arange(0,50,4),np.arange(0,50,2.5),np.arange(0,400,45),np.arange(0,100,2.5)]\n",
    "\n",
    "\n",
    "colors=sns.color_palette()\n",
    "markers=['o','s','<','v','h','P','*','^','8','p','H','d','D','X']\n",
    "msize=80\n",
    "lw_big=4\n",
    "lw_small=2\n",
    "\n",
    "\n",
    "clim=[[-0.07,2.04],[-1.5,34],[-1,21],[-5,365],[-1,21]]\n",
    "cticks=[np.arange(0,10,0.25),np.arange(0,50,4),np.arange(0,50,2.5),np.arange(0,400,45),np.arange(0,100,2.5)]"
   ]
  },
  {
   "cell_type": "code",
   "execution_count": null,
   "id": "8",
   "metadata": {
    "tags": []
   },
   "outputs": [],
   "source": [
    "fig, axs = plt.subplots(1,5, figsize=[20, 10],dpi=200,subplot_kw=dict(projection='polar') )\n",
    "for i in range(5): # for every antibiotic\n",
    "    create_polar_plot_from_df(df_window[i],cticks[i],axs[i],'concentration')\n",
    "plt.rcParams.update()\n",
    "\n",
    "fig.subplots_adjust(left=0, right=1, top=1, bottom=0, wspace=0.2)"
   ]
  },
  {
   "cell_type": "markdown",
   "id": "9",
   "metadata": {},
   "source": [
    "# Colorbar"
   ]
  },
  {
   "cell_type": "code",
   "execution_count": null,
   "id": "10",
   "metadata": {},
   "outputs": [],
   "source": [
    "import matplotlib.pyplot as plt\n",
    "import matplotlib.colors as mcolors\n",
    "from matplotlib.colorbar import ColorbarBase\n",
    "\n",
    "# Create figure\n",
    "fig, ax = plt.subplots(figsize=(8, 1))\n",
    "\n",
    "# Setup colormap and range\n",
    "cmap = plt.cm.jet\n",
    "norm = mcolors.Normalize(vmin=0, vmax=100)\n",
    "\n",
    "# Create colorbar\n",
    "cb = ColorbarBase(ax, cmap=cmap, norm=norm, orientation='horizontal')\n",
    "cb.set_label('', fontsize=12)\n",
    "cb.set_ticklabels([])\n",
    "cb.set_ticks([])\n",
    "\n",
    "# Export\n",
    "plt.tight_layout()\n",
    "plt.savefig('my_colorbar.eps', dpi=300, bbox_inches='tight', \n",
    "            facecolor='white', edgecolor='none')\n",
    "plt.show()"
   ]
  },
  {
   "cell_type": "code",
   "execution_count": null,
   "id": "11",
   "metadata": {},
   "outputs": [],
   "source": []
  }
 ],
 "metadata": {
  "kernelspec": {
   "display_name": "Python 3 (ipykernel)",
   "language": "python",
   "name": "python3"
  },
  "language_info": {
   "codemirror_mode": {
    "name": "ipython",
    "version": 3
   },
   "file_extension": ".py",
   "mimetype": "text/x-python",
   "name": "python",
   "nbconvert_exporter": "python",
   "pygments_lexer": "ipython3",
   "version": "3.12.2"
  }
 },
 "nbformat": 4,
 "nbformat_minor": 5
}
