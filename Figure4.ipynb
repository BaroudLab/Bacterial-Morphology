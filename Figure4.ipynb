{
 "cells": [
  {
   "cell_type": "code",
   "execution_count": null,
   "id": "9c0cba9d-313f-49fd-af95-e229d333fd9e",
   "metadata": {
    "tags": []
   },
   "outputs": [],
   "source": [
    "import numpy as np\n",
    "import pandas as pd\n",
    "import matplotlib.pyplot as plt\n",
    "import seaborn as sns"
   ]
  },
  {
   "cell_type": "code",
   "execution_count": null,
   "id": "eb3fbbdc-c2d2-4c9e-a252-ce28e86ac192",
   "metadata": {
    "tags": []
   },
   "outputs": [],
   "source": [
    "tex_fonts = {\n",
    "    # Use LaTeX to write all text\n",
    "    #\"text.usetex\": True,\n",
    "    \"font.family\": \"sans-serif\",\n",
    "    # Use 10pt font in plots, to match 10pt font in document\n",
    "    \"axes.labelsize\": 8,\n",
    "    \"font.size\": 10,\n",
    "    # Make the legend/label fonts a little smaller\n",
    "    \"legend.fontsize\": 8,\n",
    "    \"xtick.labelsize\": 8,\n",
    "    \"ytick.labelsize\": 8\n",
    "}"
   ]
  },
  {
   "cell_type": "markdown",
   "id": "ae5a91dc-d23f-4bb9-b890-62ebf58459aa",
   "metadata": {
    "tags": []
   },
   "source": [
    "# Classes"
   ]
  },
  {
   "cell_type": "code",
   "execution_count": null,
   "id": "a4ba7503-f339-4054-8ca2-9a811093807f",
   "metadata": {
    "tags": []
   },
   "outputs": [],
   "source": [
    "df=pd.read_csv('../tables/LabelSplitInfoAll.csv',index_col=0)"
   ]
  },
  {
   "cell_type": "code",
   "execution_count": null,
   "id": "a982f259-aaa9-42cb-976f-34bbe7bbd1a8",
   "metadata": {
    "tags": []
   },
   "outputs": [],
   "source": [
    "classes=5\n",
    "class_labeles=['positive','planktonic','clumped','rods','filaments']"
   ]
  },
  {
   "cell_type": "code",
   "execution_count": null,
   "id": "92468700-8b6c-4989-a0ae-1d6ee6c83ea6",
   "metadata": {
    "tags": []
   },
   "outputs": [],
   "source": [
    "\n",
    "class_prob=np.zeros((2,classes))\n",
    "class_prob[0,:]=df.labels_train.values/df.N_train.values\n",
    "class_prob[1,:]=df.labels_val.values/df.N_val.values\n",
    "\n",
    "pos_label_prob=np.zeros((2,classes))\n",
    "pos_label_prob[0,:]=df.labels_train.values/np.sum(df.labels_train.values)\n",
    "pos_label_prob[1,:]=df.labels_val.values/np.sum(df.labels_val.values)"
   ]
  },
  {
   "cell_type": "code",
   "execution_count": null,
   "id": "0a1dc681-0811-4092-b8df-1951fb277cd3",
   "metadata": {
    "tags": []
   },
   "outputs": [],
   "source": [
    "class_prob,pos_label_prob"
   ]
  },
  {
   "cell_type": "code",
   "execution_count": null,
   "id": "6a5b7ea3-085c-4f40-8eab-9aa130161419",
   "metadata": {
    "tags": []
   },
   "outputs": [],
   "source": [
    "np.mean(class_prob,axis=0)"
   ]
  },
  {
   "cell_type": "code",
   "execution_count": null,
   "id": "4e3810a9-6fa6-4cfe-8ad4-4d5d9e614498",
   "metadata": {
    "tags": []
   },
   "outputs": [],
   "source": [
    "class_prob"
   ]
  },
  {
   "cell_type": "code",
   "execution_count": null,
   "id": "51e8a17d-c7ad-42e6-83b5-233488cf0026",
   "metadata": {
    "tags": []
   },
   "outputs": [],
   "source": [
    "x = np.arange(classes)  # the label locations\n",
    "width = 0.25  # the width of the bars\n",
    "multiplier = 0\n",
    "colors=['gray','magenta']\n",
    "fig=plt.figure(figsize=(2, 2), dpi=200)\n",
    "ax=plt.gca()\n",
    "for c  in range(2):\n",
    "    offset = width * multiplier\n",
    "    rects = ax.bar(x + offset, class_prob[c,:], width,color=colors[c])\n",
    "    multiplier += 1\n",
    "\n",
    "# Add some text for labels, title and custom x-axis tick labels, etc.\n",
    "ax.set_ylabel('')\n",
    "#ax.set_xticks(x + width, species)\n",
    "\n",
    "\n",
    "plt.xticks(x+width/2)\n",
    "ax.set_xticklabels('' for tick in x)\n",
    "yticks=np.arange(0,1.4,0.1)\n",
    "plt.yticks(yticks)\n",
    "ax.set_yticklabels([0]+[str(np.round(tick,1)) if i%2 else '' for i,tick in enumerate(yticks[1:])])\n",
    "\n",
    "ax.set_ylim(0, 1)\n",
    "\n",
    "\n",
    "plt.show()"
   ]
  },
  {
   "cell_type": "code",
   "execution_count": null,
   "id": "5cec0431-8ad9-4ed3-ad5e-0750660fcffe",
   "metadata": {
    "tags": []
   },
   "outputs": [],
   "source": [
    "fig.savefig('../figures/BarPlot.eps', bbox_inches='tight',format='eps')"
   ]
  },
  {
   "cell_type": "code",
   "execution_count": null,
   "id": "f46ac59d-86d3-4784-b439-0bd912cef39d",
   "metadata": {
    "tags": []
   },
   "outputs": [],
   "source": [
    "fig=plt.figure(figsize=(2, 2), dpi=200)\n",
    "#plt.pie(df.labels_val.values, labels=class_labeles, autopct='%1.1f%%')\n",
    "plt.pie(df.labels_val.values) # without labels"
   ]
  },
  {
   "cell_type": "code",
   "execution_count": null,
   "id": "997f77fa-c4e8-45c7-8b83-2f6501ddad6e",
   "metadata": {
    "tags": []
   },
   "outputs": [],
   "source": [
    "fig.savefig('../figures/PercentVal.eps', bbox_inches='tight',format='eps')"
   ]
  },
  {
   "cell_type": "code",
   "execution_count": null,
   "id": "700a1d42-1e91-4ec5-9248-47e9ccd6a93d",
   "metadata": {
    "tags": []
   },
   "outputs": [],
   "source": [
    "fig=plt.figure(figsize=(2, 2), dpi=200)\n",
    "#plt.pie(df.labels_train.values, labels=class_labeles, autopct='%1.1f%%')\n",
    "plt.pie(df.labels_train.values) #without labels"
   ]
  },
  {
   "cell_type": "code",
   "execution_count": null,
   "id": "8675f47a-633f-409c-9879-1cdd39d889fa",
   "metadata": {
    "tags": []
   },
   "outputs": [],
   "source": [
    "fig.savefig('../figures/Percenttrain.eps', bbox_inches='tight',format='eps')"
   ]
  },
  {
   "cell_type": "markdown",
   "id": "9dcd3a1b-609a-4dba-9524-cb05f257d8ab",
   "metadata": {
    "tags": []
   },
   "source": [
    "# Performance Metric"
   ]
  },
  {
   "cell_type": "code",
   "execution_count": null,
   "id": "cd5b7e06-6044-4352-a209-a4f241fda6da",
   "metadata": {},
   "outputs": [],
   "source": [
    "df=pd.read_csv('../tables/Scores_All.csv',index_col=0)"
   ]
  },
  {
   "cell_type": "code",
   "execution_count": null,
   "id": "31bc5153-0bc0-4aa2-b255-d86f1cb15e39",
   "metadata": {},
   "outputs": [],
   "source": [
    "performance=df.to_numpy()"
   ]
  },
  {
   "cell_type": "code",
   "execution_count": null,
   "id": "0e15ba04-9341-4e7e-aa1e-dcfa41d88d94",
   "metadata": {},
   "outputs": [],
   "source": [
    "x = np.arange(classes)  # the label locations\n",
    "width = 0.25  # the width of the bars\n",
    "multiplier = 0\n",
    "colors=sns.color_palette()\n",
    "fig=plt.figure(figsize=(2, 2), dpi=200)\n",
    "ax=plt.gca()\n",
    "\n",
    "for c  in range(3):\n",
    "    offset = width * multiplier\n",
    "    rects = ax.bar(x + offset, performance[:,c], width,color=colors[c])\n",
    "    multiplier += 1\n",
    "\n",
    "# Add some text for labels, title and custom x-axis tick labels, etc.\n",
    "ax.set_ylabel('')\n",
    "\n",
    "\n",
    "plt.xticks(x+width/2)\n",
    "ax.set_xticklabels('' for tick in x)\n",
    "yticks=np.arange(0,1.4,0.1)\n",
    "plt.yticks(yticks)\n",
    "ax.set_yticklabels([0]+[str(np.round(tick,1)) if i%2 else '' for i,tick in enumerate(yticks[1:])])\n",
    "ax.set_ylim(0, 1)\n",
    "\n",
    "plt.show()"
   ]
  },
  {
   "cell_type": "code",
   "execution_count": null,
   "id": "2cd812c7-f254-4f71-a833-d4eaee29dc46",
   "metadata": {},
   "outputs": [],
   "source": [
    "fig.savefig('../figures/Performance.eps', bbox_inches='tight',format='eps')"
   ]
  },
  {
   "cell_type": "markdown",
   "id": "4ccc095c-fed3-46bb-9433-fef5d72154aa",
   "metadata": {
    "tags": []
   },
   "source": [
    "# Logits"
   ]
  },
  {
   "cell_type": "code",
   "execution_count": null,
   "id": "67bf676d-63f5-4bc0-99b5-ae9abfdad2ce",
   "metadata": {
    "tags": []
   },
   "outputs": [],
   "source": [
    "df=pd.read_csv('../tables/ValidationPredictions_All.csv',index_col=0)"
   ]
  },
  {
   "cell_type": "code",
   "execution_count": null,
   "id": "c42fb44a-77d6-434d-8abb-62ae530a7310",
   "metadata": {
    "tags": []
   },
   "outputs": [],
   "source": [
    "def plot_logit_cumprob(data,xlim,ylim,lw_big,lw_small,jitter=0.1,ax=None):\n",
    "    # data: numpy array columns logit,y class\n",
    "    df=pd.DataFrame({'logit':data[:,0],'class':data[:,1],'y': data[:,1]})\n",
    "    if(ax is None):\n",
    "        ax=plt.gca()\n",
    "    sns.kdeplot(data=df,x='logit',hue='class',ax=ax,lw=lw_big,common_norm=False,cumulative=True)\n",
    "    sns.stripplot(data=df,x='logit',y='y',hue='class',native_scale=True, orient=\"h\",ax=ax,jitter=jitter,zorder=0)\n",
    "    ax.legend([],[], frameon=False)\n",
    "    \n",
    "    ax.plot([-15,15],[0,0],'gray',lw=lw_small)\n",
    "    ax.plot([-15,15],[1,1],'gray',lw=lw_small)\n",
    "    ax.plot([0,0],[-2,2],'gray',lw=lw_small,linestyle='--')\n",
    "    ax.plot(np.arange(-15,15,0.1),1/(1+ np.exp(-np.arange(-15,15,0.1))),color='gray',lw=lw_big)\n",
    "    # axis settings\n",
    "    plt.setp(ax.spines.values(), linewidth=1)\n",
    "    ax.tick_params(axis='both', which='major', labelsize=8)\n",
    "    #ticks\n",
    "    xticks=np.arange(-10,11,2)\n",
    "    yticks=np.arange(0,2,0.1)\n",
    "    ax.set_xticks(xticks)\n",
    "    ax.set_yticks(yticks)\n",
    "    ax.set_yticklabels('' for tick in yticks)\n",
    "    #now remove labeles\n",
    "    ax.set_xticklabels(['' for tick in xticks])\n",
    "    yticks=np.arange(0, 1.2, 0.1)*scale\n",
    "\n",
    "   \n",
    "    ax.set_xlabel('')\n",
    "    ax.set_ylabel('')\n",
    "    ax.set_xlim(xlim)\n",
    "    ax.set_ylim(ylim)\n"
   ]
  },
  {
   "cell_type": "code",
   "execution_count": null,
   "id": "d6e87fab-7945-4938-bf47-560fb815c47b",
   "metadata": {
    "tags": []
   },
   "outputs": [],
   "source": [
    "classes=5\n",
    "lw_big=2\n",
    "lw_small=1\n",
    "jit=0.1\n",
    "xlim=[-10.5,10.5]\n",
    "\n",
    "ylim=[-0.15,1.15]\n",
    "\n",
    "fig, axs = plt.subplots(classes,1, figsize=[4, 10],dpi=200 )\n",
    "plot_logit_cumprob(df[['pred_logit_0','positive']].to_numpy(),xlim,ylim,lw_big,lw_small,jit,axs[0])\n",
    "plot_logit_cumprob(df[['pred_logit_1','rods']].to_numpy(),xlim,ylim,lw_big,lw_small,jit,axs[1])\n",
    "plot_logit_cumprob(df[['pred_logit_2','planktonic']].to_numpy(),xlim,ylim,lw_big,lw_small,jit,axs[2])\n",
    "plot_logit_cumprob(df[['pred_logit_3','elongated']].to_numpy(),xlim,ylim,lw_big,lw_small,jit,axs[3])\n",
    "plot_logit_cumprob(df[['pred_logit_4','clumped']].to_numpy(),xlim,ylim,lw_big,lw_small,jit,axs[4])\n",
    "\n",
    "plt.rcParams.update(tex_fonts)\n",
    "\n",
    "fig.tight_layout()"
   ]
  },
  {
   "cell_type": "code",
   "execution_count": null,
   "id": "2feb5ad8-4cdc-407f-bdb9-8bff45469835",
   "metadata": {
    "tags": []
   },
   "outputs": [],
   "source": [
    "fig.savefig('../figures/Logits_cumprob.eps', bbox_inches='tight',format='eps')"
   ]
  }
 ],
 "metadata": {
  "kernelspec": {
   "display_name": "Python 3 (ipykernel)",
   "language": "python",
   "name": "python3"
  },
  "language_info": {
   "codemirror_mode": {
    "name": "ipython",
    "version": 3
   },
   "file_extension": ".py",
   "mimetype": "text/x-python",
   "name": "python",
   "nbconvert_exporter": "python",
   "pygments_lexer": "ipython3",
   "version": "3.10.11"
  }
 },
 "nbformat": 4,
 "nbformat_minor": 5
}
